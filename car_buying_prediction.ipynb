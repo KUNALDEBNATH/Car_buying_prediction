{
  "cells": [
    {
      "cell_type": "markdown",
      "metadata": {
        "id": "view-in-github",
        "colab_type": "text"
      },
      "source": [
        "<a href=\"https://colab.research.google.com/github/KUNALDEBNATH/projrct3/blob/main/car_buying_prediction.ipynb\" target=\"_parent\"><img src=\"https://colab.research.google.com/assets/colab-badge.svg\" alt=\"Open In Colab\"/></a>"
      ]
    },
    {
      "cell_type": "markdown",
      "metadata": {
        "id": "5cRdfGChTrDZ"
      },
      "source": [
        "Importing the Dependencies"
      ]
    },
    {
      "cell_type": "code",
      "execution_count": null,
      "metadata": {
        "id": "v_ySUBf4TtMc"
      },
      "outputs": [],
      "source": []
    },
    {
      "cell_type": "code",
      "execution_count": 2,
      "metadata": {
        "id": "QTYVcDw3SNxq"
      },
      "outputs": [],
      "source": [
        "import numpy as np #for array\n",
        "import pandas as pd #for data processing\n",
        "\n",
        "from sklearn.model_selection import train_test_split  # func to split data into train and test\n",
        "from sklearn.linear_model import LogisticRegression\n",
        "from sklearn.metrics import accuracy_score\n"
      ]
    },
    {
      "cell_type": "markdown",
      "metadata": {
        "id": "C-ijSdT3WgmI"
      },
      "source": [
        "Data collection and Data processing\n"
      ]
    },
    {
      "cell_type": "markdown",
      "source": [],
      "metadata": {
        "id": "uvfzdZktggtm"
      }
    },
    {
      "cell_type": "code",
      "execution_count": 57,
      "metadata": {
        "id": "iOb3ipEDV_K_"
      },
      "outputs": [],
      "source": [
        "data = pd.read_csv('/content/data2 (1).csv', header=0)"
      ]
    },
    {
      "cell_type": "markdown",
      "metadata": {
        "id": "G5AMeY4fYHOL"
      },
      "source": []
    },
    {
      "cell_type": "code",
      "execution_count": 58,
      "metadata": {
        "colab": {
          "base_uri": "https://localhost:8080/",
          "height": 206
        },
        "id": "6P6cg22aXlp6",
        "outputId": "ab1e3ba8-3914-4e2f-b4e7-e03cdb7d418a"
      },
      "outputs": [
        {
          "output_type": "execute_result",
          "data": {
            "text/plain": [
              "   Gender  Age    Country  Salary  WillBuyCar\n",
              "0    Male   30        USA   60000           1\n",
              "1  Female   35     Canada   75000           0\n",
              "2    Male   28         UK   50000           0\n",
              "3  Female   40  Australia   90000           1\n",
              "4    Male   45    Germany   80000           1"
            ],
            "text/html": [
              "\n",
              "  <div id=\"df-5397f54a-af5f-49f0-ace3-6e7b25d04fe3\" class=\"colab-df-container\">\n",
              "    <div>\n",
              "<style scoped>\n",
              "    .dataframe tbody tr th:only-of-type {\n",
              "        vertical-align: middle;\n",
              "    }\n",
              "\n",
              "    .dataframe tbody tr th {\n",
              "        vertical-align: top;\n",
              "    }\n",
              "\n",
              "    .dataframe thead th {\n",
              "        text-align: right;\n",
              "    }\n",
              "</style>\n",
              "<table border=\"1\" class=\"dataframe\">\n",
              "  <thead>\n",
              "    <tr style=\"text-align: right;\">\n",
              "      <th></th>\n",
              "      <th>Gender</th>\n",
              "      <th>Age</th>\n",
              "      <th>Country</th>\n",
              "      <th>Salary</th>\n",
              "      <th>WillBuyCar</th>\n",
              "    </tr>\n",
              "  </thead>\n",
              "  <tbody>\n",
              "    <tr>\n",
              "      <th>0</th>\n",
              "      <td>Male</td>\n",
              "      <td>30</td>\n",
              "      <td>USA</td>\n",
              "      <td>60000</td>\n",
              "      <td>1</td>\n",
              "    </tr>\n",
              "    <tr>\n",
              "      <th>1</th>\n",
              "      <td>Female</td>\n",
              "      <td>35</td>\n",
              "      <td>Canada</td>\n",
              "      <td>75000</td>\n",
              "      <td>0</td>\n",
              "    </tr>\n",
              "    <tr>\n",
              "      <th>2</th>\n",
              "      <td>Male</td>\n",
              "      <td>28</td>\n",
              "      <td>UK</td>\n",
              "      <td>50000</td>\n",
              "      <td>0</td>\n",
              "    </tr>\n",
              "    <tr>\n",
              "      <th>3</th>\n",
              "      <td>Female</td>\n",
              "      <td>40</td>\n",
              "      <td>Australia</td>\n",
              "      <td>90000</td>\n",
              "      <td>1</td>\n",
              "    </tr>\n",
              "    <tr>\n",
              "      <th>4</th>\n",
              "      <td>Male</td>\n",
              "      <td>45</td>\n",
              "      <td>Germany</td>\n",
              "      <td>80000</td>\n",
              "      <td>1</td>\n",
              "    </tr>\n",
              "  </tbody>\n",
              "</table>\n",
              "</div>\n",
              "    <div class=\"colab-df-buttons\">\n",
              "\n",
              "  <div class=\"colab-df-container\">\n",
              "    <button class=\"colab-df-convert\" onclick=\"convertToInteractive('df-5397f54a-af5f-49f0-ace3-6e7b25d04fe3')\"\n",
              "            title=\"Convert this dataframe to an interactive table.\"\n",
              "            style=\"display:none;\">\n",
              "\n",
              "  <svg xmlns=\"http://www.w3.org/2000/svg\" height=\"24px\" viewBox=\"0 -960 960 960\">\n",
              "    <path d=\"M120-120v-720h720v720H120Zm60-500h600v-160H180v160Zm220 220h160v-160H400v160Zm0 220h160v-160H400v160ZM180-400h160v-160H180v160Zm440 0h160v-160H620v160ZM180-180h160v-160H180v160Zm440 0h160v-160H620v160Z\"/>\n",
              "  </svg>\n",
              "    </button>\n",
              "\n",
              "  <style>\n",
              "    .colab-df-container {\n",
              "      display:flex;\n",
              "      gap: 12px;\n",
              "    }\n",
              "\n",
              "    .colab-df-convert {\n",
              "      background-color: #E8F0FE;\n",
              "      border: none;\n",
              "      border-radius: 50%;\n",
              "      cursor: pointer;\n",
              "      display: none;\n",
              "      fill: #1967D2;\n",
              "      height: 32px;\n",
              "      padding: 0 0 0 0;\n",
              "      width: 32px;\n",
              "    }\n",
              "\n",
              "    .colab-df-convert:hover {\n",
              "      background-color: #E2EBFA;\n",
              "      box-shadow: 0px 1px 2px rgba(60, 64, 67, 0.3), 0px 1px 3px 1px rgba(60, 64, 67, 0.15);\n",
              "      fill: #174EA6;\n",
              "    }\n",
              "\n",
              "    .colab-df-buttons div {\n",
              "      margin-bottom: 4px;\n",
              "    }\n",
              "\n",
              "    [theme=dark] .colab-df-convert {\n",
              "      background-color: #3B4455;\n",
              "      fill: #D2E3FC;\n",
              "    }\n",
              "\n",
              "    [theme=dark] .colab-df-convert:hover {\n",
              "      background-color: #434B5C;\n",
              "      box-shadow: 0px 1px 3px 1px rgba(0, 0, 0, 0.15);\n",
              "      filter: drop-shadow(0px 1px 2px rgba(0, 0, 0, 0.3));\n",
              "      fill: #FFFFFF;\n",
              "    }\n",
              "  </style>\n",
              "\n",
              "    <script>\n",
              "      const buttonEl =\n",
              "        document.querySelector('#df-5397f54a-af5f-49f0-ace3-6e7b25d04fe3 button.colab-df-convert');\n",
              "      buttonEl.style.display =\n",
              "        google.colab.kernel.accessAllowed ? 'block' : 'none';\n",
              "\n",
              "      async function convertToInteractive(key) {\n",
              "        const element = document.querySelector('#df-5397f54a-af5f-49f0-ace3-6e7b25d04fe3');\n",
              "        const dataTable =\n",
              "          await google.colab.kernel.invokeFunction('convertToInteractive',\n",
              "                                                    [key], {});\n",
              "        if (!dataTable) return;\n",
              "\n",
              "        const docLinkHtml = 'Like what you see? Visit the ' +\n",
              "          '<a target=\"_blank\" href=https://colab.research.google.com/notebooks/data_table.ipynb>data table notebook</a>'\n",
              "          + ' to learn more about interactive tables.';\n",
              "        element.innerHTML = '';\n",
              "        dataTable['output_type'] = 'display_data';\n",
              "        await google.colab.output.renderOutput(dataTable, element);\n",
              "        const docLink = document.createElement('div');\n",
              "        docLink.innerHTML = docLinkHtml;\n",
              "        element.appendChild(docLink);\n",
              "      }\n",
              "    </script>\n",
              "  </div>\n",
              "\n",
              "\n",
              "<div id=\"df-f655d64c-ea81-4140-ab2d-b8552dc01a98\">\n",
              "  <button class=\"colab-df-quickchart\" onclick=\"quickchart('df-f655d64c-ea81-4140-ab2d-b8552dc01a98')\"\n",
              "            title=\"Suggest charts\"\n",
              "            style=\"display:none;\">\n",
              "\n",
              "<svg xmlns=\"http://www.w3.org/2000/svg\" height=\"24px\"viewBox=\"0 0 24 24\"\n",
              "     width=\"24px\">\n",
              "    <g>\n",
              "        <path d=\"M19 3H5c-1.1 0-2 .9-2 2v14c0 1.1.9 2 2 2h14c1.1 0 2-.9 2-2V5c0-1.1-.9-2-2-2zM9 17H7v-7h2v7zm4 0h-2V7h2v10zm4 0h-2v-4h2v4z\"/>\n",
              "    </g>\n",
              "</svg>\n",
              "  </button>\n",
              "\n",
              "<style>\n",
              "  .colab-df-quickchart {\n",
              "      --bg-color: #E8F0FE;\n",
              "      --fill-color: #1967D2;\n",
              "      --hover-bg-color: #E2EBFA;\n",
              "      --hover-fill-color: #174EA6;\n",
              "      --disabled-fill-color: #AAA;\n",
              "      --disabled-bg-color: #DDD;\n",
              "  }\n",
              "\n",
              "  [theme=dark] .colab-df-quickchart {\n",
              "      --bg-color: #3B4455;\n",
              "      --fill-color: #D2E3FC;\n",
              "      --hover-bg-color: #434B5C;\n",
              "      --hover-fill-color: #FFFFFF;\n",
              "      --disabled-bg-color: #3B4455;\n",
              "      --disabled-fill-color: #666;\n",
              "  }\n",
              "\n",
              "  .colab-df-quickchart {\n",
              "    background-color: var(--bg-color);\n",
              "    border: none;\n",
              "    border-radius: 50%;\n",
              "    cursor: pointer;\n",
              "    display: none;\n",
              "    fill: var(--fill-color);\n",
              "    height: 32px;\n",
              "    padding: 0;\n",
              "    width: 32px;\n",
              "  }\n",
              "\n",
              "  .colab-df-quickchart:hover {\n",
              "    background-color: var(--hover-bg-color);\n",
              "    box-shadow: 0 1px 2px rgba(60, 64, 67, 0.3), 0 1px 3px 1px rgba(60, 64, 67, 0.15);\n",
              "    fill: var(--button-hover-fill-color);\n",
              "  }\n",
              "\n",
              "  .colab-df-quickchart-complete:disabled,\n",
              "  .colab-df-quickchart-complete:disabled:hover {\n",
              "    background-color: var(--disabled-bg-color);\n",
              "    fill: var(--disabled-fill-color);\n",
              "    box-shadow: none;\n",
              "  }\n",
              "\n",
              "  .colab-df-spinner {\n",
              "    border: 2px solid var(--fill-color);\n",
              "    border-color: transparent;\n",
              "    border-bottom-color: var(--fill-color);\n",
              "    animation:\n",
              "      spin 1s steps(1) infinite;\n",
              "  }\n",
              "\n",
              "  @keyframes spin {\n",
              "    0% {\n",
              "      border-color: transparent;\n",
              "      border-bottom-color: var(--fill-color);\n",
              "      border-left-color: var(--fill-color);\n",
              "    }\n",
              "    20% {\n",
              "      border-color: transparent;\n",
              "      border-left-color: var(--fill-color);\n",
              "      border-top-color: var(--fill-color);\n",
              "    }\n",
              "    30% {\n",
              "      border-color: transparent;\n",
              "      border-left-color: var(--fill-color);\n",
              "      border-top-color: var(--fill-color);\n",
              "      border-right-color: var(--fill-color);\n",
              "    }\n",
              "    40% {\n",
              "      border-color: transparent;\n",
              "      border-right-color: var(--fill-color);\n",
              "      border-top-color: var(--fill-color);\n",
              "    }\n",
              "    60% {\n",
              "      border-color: transparent;\n",
              "      border-right-color: var(--fill-color);\n",
              "    }\n",
              "    80% {\n",
              "      border-color: transparent;\n",
              "      border-right-color: var(--fill-color);\n",
              "      border-bottom-color: var(--fill-color);\n",
              "    }\n",
              "    90% {\n",
              "      border-color: transparent;\n",
              "      border-bottom-color: var(--fill-color);\n",
              "    }\n",
              "  }\n",
              "</style>\n",
              "\n",
              "  <script>\n",
              "    async function quickchart(key) {\n",
              "      const quickchartButtonEl =\n",
              "        document.querySelector('#' + key + ' button');\n",
              "      quickchartButtonEl.disabled = true;  // To prevent multiple clicks.\n",
              "      quickchartButtonEl.classList.add('colab-df-spinner');\n",
              "      try {\n",
              "        const charts = await google.colab.kernel.invokeFunction(\n",
              "            'suggestCharts', [key], {});\n",
              "      } catch (error) {\n",
              "        console.error('Error during call to suggestCharts:', error);\n",
              "      }\n",
              "      quickchartButtonEl.classList.remove('colab-df-spinner');\n",
              "      quickchartButtonEl.classList.add('colab-df-quickchart-complete');\n",
              "    }\n",
              "    (() => {\n",
              "      let quickchartButtonEl =\n",
              "        document.querySelector('#df-f655d64c-ea81-4140-ab2d-b8552dc01a98 button');\n",
              "      quickchartButtonEl.style.display =\n",
              "        google.colab.kernel.accessAllowed ? 'block' : 'none';\n",
              "    })();\n",
              "  </script>\n",
              "</div>\n",
              "\n",
              "    </div>\n",
              "  </div>\n"
            ]
          },
          "metadata": {},
          "execution_count": 58
        }
      ],
      "source": [
        "data.head()"
      ]
    },
    {
      "cell_type": "code",
      "execution_count": 50,
      "metadata": {
        "colab": {
          "base_uri": "https://localhost:8080/"
        },
        "id": "K_46GGgcYa6D",
        "outputId": "953fca64-9528-4443-b692-c0403709d031"
      },
      "outputs": [
        {
          "output_type": "execute_result",
          "data": {
            "text/plain": [
              "(40, 5)"
            ]
          },
          "metadata": {},
          "execution_count": 50
        }
      ],
      "source": [
        "\n",
        "#Number of rows and columns\n",
        "data.shape"
      ]
    },
    {
      "cell_type": "code",
      "execution_count": 51,
      "metadata": {
        "colab": {
          "base_uri": "https://localhost:8080/",
          "height": 300
        },
        "id": "Qmp3hGqsZCmX",
        "outputId": "0deaf7a3-4288-41b7-c5ba-50102fec35c1"
      },
      "outputs": [
        {
          "output_type": "execute_result",
          "data": {
            "text/plain": [
              "             Age         Salary\n",
              "count  40.000000      40.000000\n",
              "mean   35.100000   70750.000000\n",
              "std     5.719064   17742.820867\n",
              "min    28.000000   10000.000000\n",
              "25%    30.000000   60000.000000\n",
              "50%    34.000000   70000.000000\n",
              "75%    40.000000   85000.000000\n",
              "max    45.000000  100000.000000"
            ],
            "text/html": [
              "\n",
              "  <div id=\"df-c5efd467-78a2-4e09-a274-e03083e62541\" class=\"colab-df-container\">\n",
              "    <div>\n",
              "<style scoped>\n",
              "    .dataframe tbody tr th:only-of-type {\n",
              "        vertical-align: middle;\n",
              "    }\n",
              "\n",
              "    .dataframe tbody tr th {\n",
              "        vertical-align: top;\n",
              "    }\n",
              "\n",
              "    .dataframe thead th {\n",
              "        text-align: right;\n",
              "    }\n",
              "</style>\n",
              "<table border=\"1\" class=\"dataframe\">\n",
              "  <thead>\n",
              "    <tr style=\"text-align: right;\">\n",
              "      <th></th>\n",
              "      <th>Age</th>\n",
              "      <th>Salary</th>\n",
              "    </tr>\n",
              "  </thead>\n",
              "  <tbody>\n",
              "    <tr>\n",
              "      <th>count</th>\n",
              "      <td>40.000000</td>\n",
              "      <td>40.000000</td>\n",
              "    </tr>\n",
              "    <tr>\n",
              "      <th>mean</th>\n",
              "      <td>35.100000</td>\n",
              "      <td>70750.000000</td>\n",
              "    </tr>\n",
              "    <tr>\n",
              "      <th>std</th>\n",
              "      <td>5.719064</td>\n",
              "      <td>17742.820867</td>\n",
              "    </tr>\n",
              "    <tr>\n",
              "      <th>min</th>\n",
              "      <td>28.000000</td>\n",
              "      <td>10000.000000</td>\n",
              "    </tr>\n",
              "    <tr>\n",
              "      <th>25%</th>\n",
              "      <td>30.000000</td>\n",
              "      <td>60000.000000</td>\n",
              "    </tr>\n",
              "    <tr>\n",
              "      <th>50%</th>\n",
              "      <td>34.000000</td>\n",
              "      <td>70000.000000</td>\n",
              "    </tr>\n",
              "    <tr>\n",
              "      <th>75%</th>\n",
              "      <td>40.000000</td>\n",
              "      <td>85000.000000</td>\n",
              "    </tr>\n",
              "    <tr>\n",
              "      <th>max</th>\n",
              "      <td>45.000000</td>\n",
              "      <td>100000.000000</td>\n",
              "    </tr>\n",
              "  </tbody>\n",
              "</table>\n",
              "</div>\n",
              "    <div class=\"colab-df-buttons\">\n",
              "\n",
              "  <div class=\"colab-df-container\">\n",
              "    <button class=\"colab-df-convert\" onclick=\"convertToInteractive('df-c5efd467-78a2-4e09-a274-e03083e62541')\"\n",
              "            title=\"Convert this dataframe to an interactive table.\"\n",
              "            style=\"display:none;\">\n",
              "\n",
              "  <svg xmlns=\"http://www.w3.org/2000/svg\" height=\"24px\" viewBox=\"0 -960 960 960\">\n",
              "    <path d=\"M120-120v-720h720v720H120Zm60-500h600v-160H180v160Zm220 220h160v-160H400v160Zm0 220h160v-160H400v160ZM180-400h160v-160H180v160Zm440 0h160v-160H620v160ZM180-180h160v-160H180v160Zm440 0h160v-160H620v160Z\"/>\n",
              "  </svg>\n",
              "    </button>\n",
              "\n",
              "  <style>\n",
              "    .colab-df-container {\n",
              "      display:flex;\n",
              "      gap: 12px;\n",
              "    }\n",
              "\n",
              "    .colab-df-convert {\n",
              "      background-color: #E8F0FE;\n",
              "      border: none;\n",
              "      border-radius: 50%;\n",
              "      cursor: pointer;\n",
              "      display: none;\n",
              "      fill: #1967D2;\n",
              "      height: 32px;\n",
              "      padding: 0 0 0 0;\n",
              "      width: 32px;\n",
              "    }\n",
              "\n",
              "    .colab-df-convert:hover {\n",
              "      background-color: #E2EBFA;\n",
              "      box-shadow: 0px 1px 2px rgba(60, 64, 67, 0.3), 0px 1px 3px 1px rgba(60, 64, 67, 0.15);\n",
              "      fill: #174EA6;\n",
              "    }\n",
              "\n",
              "    .colab-df-buttons div {\n",
              "      margin-bottom: 4px;\n",
              "    }\n",
              "\n",
              "    [theme=dark] .colab-df-convert {\n",
              "      background-color: #3B4455;\n",
              "      fill: #D2E3FC;\n",
              "    }\n",
              "\n",
              "    [theme=dark] .colab-df-convert:hover {\n",
              "      background-color: #434B5C;\n",
              "      box-shadow: 0px 1px 3px 1px rgba(0, 0, 0, 0.15);\n",
              "      filter: drop-shadow(0px 1px 2px rgba(0, 0, 0, 0.3));\n",
              "      fill: #FFFFFF;\n",
              "    }\n",
              "  </style>\n",
              "\n",
              "    <script>\n",
              "      const buttonEl =\n",
              "        document.querySelector('#df-c5efd467-78a2-4e09-a274-e03083e62541 button.colab-df-convert');\n",
              "      buttonEl.style.display =\n",
              "        google.colab.kernel.accessAllowed ? 'block' : 'none';\n",
              "\n",
              "      async function convertToInteractive(key) {\n",
              "        const element = document.querySelector('#df-c5efd467-78a2-4e09-a274-e03083e62541');\n",
              "        const dataTable =\n",
              "          await google.colab.kernel.invokeFunction('convertToInteractive',\n",
              "                                                    [key], {});\n",
              "        if (!dataTable) return;\n",
              "\n",
              "        const docLinkHtml = 'Like what you see? Visit the ' +\n",
              "          '<a target=\"_blank\" href=https://colab.research.google.com/notebooks/data_table.ipynb>data table notebook</a>'\n",
              "          + ' to learn more about interactive tables.';\n",
              "        element.innerHTML = '';\n",
              "        dataTable['output_type'] = 'display_data';\n",
              "        await google.colab.output.renderOutput(dataTable, element);\n",
              "        const docLink = document.createElement('div');\n",
              "        docLink.innerHTML = docLinkHtml;\n",
              "        element.appendChild(docLink);\n",
              "      }\n",
              "    </script>\n",
              "  </div>\n",
              "\n",
              "\n",
              "<div id=\"df-300c9665-4ba5-4c25-8c0d-6f17f31588fb\">\n",
              "  <button class=\"colab-df-quickchart\" onclick=\"quickchart('df-300c9665-4ba5-4c25-8c0d-6f17f31588fb')\"\n",
              "            title=\"Suggest charts\"\n",
              "            style=\"display:none;\">\n",
              "\n",
              "<svg xmlns=\"http://www.w3.org/2000/svg\" height=\"24px\"viewBox=\"0 0 24 24\"\n",
              "     width=\"24px\">\n",
              "    <g>\n",
              "        <path d=\"M19 3H5c-1.1 0-2 .9-2 2v14c0 1.1.9 2 2 2h14c1.1 0 2-.9 2-2V5c0-1.1-.9-2-2-2zM9 17H7v-7h2v7zm4 0h-2V7h2v10zm4 0h-2v-4h2v4z\"/>\n",
              "    </g>\n",
              "</svg>\n",
              "  </button>\n",
              "\n",
              "<style>\n",
              "  .colab-df-quickchart {\n",
              "      --bg-color: #E8F0FE;\n",
              "      --fill-color: #1967D2;\n",
              "      --hover-bg-color: #E2EBFA;\n",
              "      --hover-fill-color: #174EA6;\n",
              "      --disabled-fill-color: #AAA;\n",
              "      --disabled-bg-color: #DDD;\n",
              "  }\n",
              "\n",
              "  [theme=dark] .colab-df-quickchart {\n",
              "      --bg-color: #3B4455;\n",
              "      --fill-color: #D2E3FC;\n",
              "      --hover-bg-color: #434B5C;\n",
              "      --hover-fill-color: #FFFFFF;\n",
              "      --disabled-bg-color: #3B4455;\n",
              "      --disabled-fill-color: #666;\n",
              "  }\n",
              "\n",
              "  .colab-df-quickchart {\n",
              "    background-color: var(--bg-color);\n",
              "    border: none;\n",
              "    border-radius: 50%;\n",
              "    cursor: pointer;\n",
              "    display: none;\n",
              "    fill: var(--fill-color);\n",
              "    height: 32px;\n",
              "    padding: 0;\n",
              "    width: 32px;\n",
              "  }\n",
              "\n",
              "  .colab-df-quickchart:hover {\n",
              "    background-color: var(--hover-bg-color);\n",
              "    box-shadow: 0 1px 2px rgba(60, 64, 67, 0.3), 0 1px 3px 1px rgba(60, 64, 67, 0.15);\n",
              "    fill: var(--button-hover-fill-color);\n",
              "  }\n",
              "\n",
              "  .colab-df-quickchart-complete:disabled,\n",
              "  .colab-df-quickchart-complete:disabled:hover {\n",
              "    background-color: var(--disabled-bg-color);\n",
              "    fill: var(--disabled-fill-color);\n",
              "    box-shadow: none;\n",
              "  }\n",
              "\n",
              "  .colab-df-spinner {\n",
              "    border: 2px solid var(--fill-color);\n",
              "    border-color: transparent;\n",
              "    border-bottom-color: var(--fill-color);\n",
              "    animation:\n",
              "      spin 1s steps(1) infinite;\n",
              "  }\n",
              "\n",
              "  @keyframes spin {\n",
              "    0% {\n",
              "      border-color: transparent;\n",
              "      border-bottom-color: var(--fill-color);\n",
              "      border-left-color: var(--fill-color);\n",
              "    }\n",
              "    20% {\n",
              "      border-color: transparent;\n",
              "      border-left-color: var(--fill-color);\n",
              "      border-top-color: var(--fill-color);\n",
              "    }\n",
              "    30% {\n",
              "      border-color: transparent;\n",
              "      border-left-color: var(--fill-color);\n",
              "      border-top-color: var(--fill-color);\n",
              "      border-right-color: var(--fill-color);\n",
              "    }\n",
              "    40% {\n",
              "      border-color: transparent;\n",
              "      border-right-color: var(--fill-color);\n",
              "      border-top-color: var(--fill-color);\n",
              "    }\n",
              "    60% {\n",
              "      border-color: transparent;\n",
              "      border-right-color: var(--fill-color);\n",
              "    }\n",
              "    80% {\n",
              "      border-color: transparent;\n",
              "      border-right-color: var(--fill-color);\n",
              "      border-bottom-color: var(--fill-color);\n",
              "    }\n",
              "    90% {\n",
              "      border-color: transparent;\n",
              "      border-bottom-color: var(--fill-color);\n",
              "    }\n",
              "  }\n",
              "</style>\n",
              "\n",
              "  <script>\n",
              "    async function quickchart(key) {\n",
              "      const quickchartButtonEl =\n",
              "        document.querySelector('#' + key + ' button');\n",
              "      quickchartButtonEl.disabled = true;  // To prevent multiple clicks.\n",
              "      quickchartButtonEl.classList.add('colab-df-spinner');\n",
              "      try {\n",
              "        const charts = await google.colab.kernel.invokeFunction(\n",
              "            'suggestCharts', [key], {});\n",
              "      } catch (error) {\n",
              "        console.error('Error during call to suggestCharts:', error);\n",
              "      }\n",
              "      quickchartButtonEl.classList.remove('colab-df-spinner');\n",
              "      quickchartButtonEl.classList.add('colab-df-quickchart-complete');\n",
              "    }\n",
              "    (() => {\n",
              "      let quickchartButtonEl =\n",
              "        document.querySelector('#df-300c9665-4ba5-4c25-8c0d-6f17f31588fb button');\n",
              "      quickchartButtonEl.style.display =\n",
              "        google.colab.kernel.accessAllowed ? 'block' : 'none';\n",
              "    })();\n",
              "  </script>\n",
              "</div>\n",
              "\n",
              "    </div>\n",
              "  </div>\n"
            ]
          },
          "metadata": {},
          "execution_count": 51
        }
      ],
      "source": [
        "data.describe() #gives mean and standerd deviation --> statistical measure\n"
      ]
    },
    {
      "cell_type": "code",
      "execution_count": 59,
      "metadata": {
        "colab": {
          "base_uri": "https://localhost:8080/"
        },
        "id": "4phDl1KHZRdF",
        "outputId": "87fe9265-af9c-4067-c38b-bd5b81562538"
      },
      "outputs": [
        {
          "output_type": "execute_result",
          "data": {
            "text/plain": [
              "1    23\n",
              "0    17\n",
              "Name: WillBuyCar, dtype: int64"
            ]
          },
          "metadata": {},
          "execution_count": 59
        }
      ],
      "source": [
        "data['WillBuyCar'].value_counts()#index is 0 to 59"
      ]
    },
    {
      "cell_type": "code",
      "execution_count": 12,
      "metadata": {
        "id": "bMqSCbc4Zvms"
      },
      "outputs": [],
      "source": []
    },
    {
      "cell_type": "code",
      "source": [],
      "metadata": {
        "id": "3PsNCXSfZVEv"
      },
      "execution_count": null,
      "outputs": []
    },
    {
      "cell_type": "code",
      "execution_count": 60,
      "metadata": {
        "id": "pHcxFeRbbHIc"
      },
      "outputs": [],
      "source": [
        "\n",
        "#separating data and labels\n",
        "X=data.drop(columns='WillBuyCar',axis=1)\n",
        "X=X.drop(columns='Country',axis=1)\n",
        "X=X.drop(columns='Gender',axis=1)\n",
        "Y=data['WillBuyCar']"
      ]
    },
    {
      "cell_type": "code",
      "execution_count": 61,
      "metadata": {
        "colab": {
          "base_uri": "https://localhost:8080/"
        },
        "id": "37ZNxAJrcOdr",
        "outputId": "4a92c296-4449-4572-9d3a-fed5ae5bdb4e"
      },
      "outputs": [
        {
          "output_type": "stream",
          "name": "stdout",
          "text": [
            "    Age  Salary\n",
            "0    30   60000\n",
            "1    35   75000\n",
            "2    28   50000\n",
            "3    40   90000\n",
            "4    45   80000\n",
            "5    32   65000\n",
            "6    38   70000\n",
            "7    28   55000\n",
            "8    42  100000\n",
            "9    33   85000\n",
            "10   30   60000\n",
            "11   35   75000\n",
            "12   28   50000\n",
            "13   40   90000\n",
            "14   45   80000\n",
            "15   32   65000\n",
            "16   38   70000\n",
            "17   28   55000\n",
            "18   42  100000\n",
            "19   33   85000\n",
            "20   30   60000\n",
            "21   35   75000\n",
            "22   28   50000\n",
            "23   40   90000\n",
            "24   45   80000\n",
            "25   32   65000\n",
            "26   38   70000\n",
            "27   28   55000\n",
            "28   42   10000\n",
            "29   33   85000\n",
            "30   30   60000\n",
            "31   35   75000\n",
            "32   28   50000\n",
            "33   40   90000\n",
            "34   45   80000\n",
            "35   32   65000\n",
            "36   38   70000\n",
            "37   28   55000\n",
            "38   42  100000\n",
            "39   33   85000\n",
            "0     1\n",
            "1     0\n",
            "2     0\n",
            "3     1\n",
            "4     1\n",
            "5     0\n",
            "6     1\n",
            "7     0\n",
            "8     1\n",
            "9     1\n",
            "10    1\n",
            "11    0\n",
            "12    0\n",
            "13    1\n",
            "14    1\n",
            "15    0\n",
            "16    1\n",
            "17    0\n",
            "18    1\n",
            "19    1\n",
            "20    1\n",
            "21    0\n",
            "22    1\n",
            "23    1\n",
            "24    1\n",
            "25    0\n",
            "26    0\n",
            "27    0\n",
            "28    0\n",
            "29    1\n",
            "30    1\n",
            "31    0\n",
            "32    0\n",
            "33    1\n",
            "34    1\n",
            "35    1\n",
            "36    0\n",
            "37    0\n",
            "38    1\n",
            "39    1\n",
            "Name: WillBuyCar, dtype: int64\n"
          ]
        }
      ],
      "source": [
        "\n",
        "print(X)\n",
        "print(Y)"
      ]
    },
    {
      "cell_type": "code",
      "execution_count": 62,
      "metadata": {
        "id": "5UoIrAPrY0MX"
      },
      "outputs": [],
      "source": [
        "#split Training and Test data\n",
        "X_train, X_test, Y_train, Y_test = train_test_split(X, Y, test_size=0.15,stratify=Y,random_state=1)\n",
        "\n"
      ]
    },
    {
      "cell_type": "code",
      "execution_count": 63,
      "metadata": {
        "colab": {
          "base_uri": "https://localhost:8080/"
        },
        "id": "4R3Qfc18Yhvo",
        "outputId": "c8c225a2-8402-4484-b999-8e89602a74e6"
      },
      "outputs": [
        {
          "output_type": "stream",
          "name": "stdout",
          "text": [
            "(40, 2)     Age  Salary\n",
            "6    38   70000\n",
            "3    40   90000\n",
            "26   38   70000\n",
            "22   28   50000\n",
            "16   38   70000\n",
            "10   30   60000\n",
            "13   40   90000\n",
            "31   35   75000\n",
            "4    45   80000\n",
            "23   40   90000\n",
            "17   28   55000\n",
            "1    35   75000\n",
            "38   42  100000\n",
            "7    28   55000\n",
            "8    42  100000\n",
            "24   45   80000\n",
            "25   32   65000\n",
            "36   38   70000\n",
            "34   45   80000\n",
            "15   32   65000\n",
            "18   42  100000\n",
            "39   33   85000\n",
            "14   45   80000\n",
            "11   35   75000\n",
            "5    32   65000\n",
            "2    28   50000\n",
            "19   33   85000\n",
            "30   30   60000\n",
            "37   28   55000\n",
            "29   33   85000\n",
            "20   30   60000\n",
            "21   35   75000\n",
            "0    30   60000\n",
            "32   28   50000     Age  Salary\n",
            "28   42   10000\n",
            "12   28   50000\n",
            "27   28   55000\n",
            "35   32   65000\n",
            "9    33   85000\n",
            "33   40   90000\n",
            "    Age  Salary\n",
            "6    38   70000\n",
            "3    40   90000\n",
            "26   38   70000\n",
            "22   28   50000\n",
            "16   38   70000\n",
            "10   30   60000\n",
            "13   40   90000\n",
            "31   35   75000\n",
            "4    45   80000\n",
            "23   40   90000\n",
            "17   28   55000\n",
            "1    35   75000\n",
            "38   42  100000\n",
            "7    28   55000\n",
            "8    42  100000\n",
            "24   45   80000\n",
            "25   32   65000\n",
            "36   38   70000\n",
            "34   45   80000\n",
            "15   32   65000\n",
            "18   42  100000\n",
            "39   33   85000\n",
            "14   45   80000\n",
            "11   35   75000\n",
            "5    32   65000\n",
            "2    28   50000\n",
            "19   33   85000\n",
            "30   30   60000\n",
            "37   28   55000\n",
            "29   33   85000\n",
            "20   30   60000\n",
            "21   35   75000\n",
            "0    30   60000\n",
            "32   28   50000\n"
          ]
        }
      ],
      "source": [
        "\n",
        "print(X.shape, X_train, X_test)\n",
        "\n",
        "print(X_train)"
      ]
    },
    {
      "cell_type": "code",
      "execution_count": 64,
      "metadata": {
        "colab": {
          "base_uri": "https://localhost:8080/"
        },
        "id": "niK4aT0SkNT5",
        "outputId": "07b6e9ad-0397-493e-eed1-08a2af109df2"
      },
      "outputs": [
        {
          "output_type": "stream",
          "name": "stdout",
          "text": [
            "    Age  Salary\n",
            "6    38   70000\n",
            "3    40   90000\n",
            "26   38   70000\n",
            "22   28   50000\n",
            "16   38   70000\n",
            "10   30   60000\n",
            "13   40   90000\n",
            "31   35   75000\n",
            "4    45   80000\n",
            "23   40   90000\n",
            "17   28   55000\n",
            "1    35   75000\n",
            "38   42  100000\n",
            "7    28   55000\n",
            "8    42  100000\n",
            "24   45   80000\n",
            "25   32   65000\n",
            "36   38   70000\n",
            "34   45   80000\n",
            "15   32   65000\n",
            "18   42  100000\n",
            "39   33   85000\n",
            "14   45   80000\n",
            "11   35   75000\n",
            "5    32   65000\n",
            "2    28   50000\n",
            "19   33   85000\n",
            "30   30   60000\n",
            "37   28   55000\n",
            "29   33   85000\n",
            "20   30   60000\n",
            "21   35   75000\n",
            "0    30   60000\n",
            "32   28   50000\n",
            "6     1\n",
            "3     1\n",
            "26    0\n",
            "22    1\n",
            "16    1\n",
            "10    1\n",
            "13    1\n",
            "31    0\n",
            "4     1\n",
            "23    1\n",
            "17    0\n",
            "1     0\n",
            "38    1\n",
            "7     0\n",
            "8     1\n",
            "24    1\n",
            "25    0\n",
            "36    0\n",
            "34    1\n",
            "15    0\n",
            "18    1\n",
            "39    1\n",
            "14    1\n",
            "11    0\n",
            "5     0\n",
            "2     0\n",
            "19    1\n",
            "30    1\n",
            "37    0\n",
            "29    1\n",
            "20    1\n",
            "21    0\n",
            "0     1\n",
            "32    0\n",
            "Name: WillBuyCar, dtype: int64\n"
          ]
        }
      ],
      "source": [
        "\n",
        "print(X_train)\n",
        "print(Y_train)\n"
      ]
    },
    {
      "cell_type": "code",
      "execution_count": 65,
      "metadata": {
        "id": "aHk3whWoidKl"
      },
      "outputs": [],
      "source": [
        "#Model training --> Logistic Regression\n",
        "model =  LogisticRegression()\n",
        "\n"
      ]
    },
    {
      "cell_type": "code",
      "source": [],
      "metadata": {
        "id": "dfwXLU1KjSU1"
      },
      "execution_count": null,
      "outputs": []
    },
    {
      "cell_type": "code",
      "source": [
        "print(X_train)\n",
        "print(Y_train)\n"
      ],
      "metadata": {
        "colab": {
          "base_uri": "https://localhost:8080/"
        },
        "id": "G8T7sRLejTt8",
        "outputId": "cad8cc97-019a-4b4f-9e96-f642f978283b"
      },
      "execution_count": 33,
      "outputs": [
        {
          "output_type": "stream",
          "name": "stdout",
          "text": [
            "    Age    Salary\n",
            "6    38   $70,000\n",
            "3    40   $90,000\n",
            "26   38   $70,000\n",
            "22   28   $50,000\n",
            "16   38   $70,000\n",
            "10   30   $60,000\n",
            "13   40   $90,000\n",
            "31   35   $75,000\n",
            "4    45   $80,000\n",
            "23   40   $90,000\n",
            "17   28   $55,000\n",
            "1    35   $75,000\n",
            "38   42  $100,000\n",
            "7    28   $55,000\n",
            "8    42  $100,000\n",
            "24   45   $80,000\n",
            "25   32   $65,000\n",
            "36   38   $70,000\n",
            "34   45   $80,000\n",
            "15   32   $65,000\n",
            "18   42  $100,000\n",
            "39   33   $85,000\n",
            "14   45   $80,000\n",
            "11   35   $75,000\n",
            "5    32   $65,000\n",
            "2    28   $50,000\n",
            "19   33   $85,000\n",
            "30   30   $60,000\n",
            "37   28   $55,000\n",
            "29   33   $85,000\n",
            "20   30   $60,000\n",
            "21   35   $75,000\n",
            "0    30   $60,000\n",
            "32   28   $50,000\n",
            "6     1\n",
            "3     1\n",
            "26    0\n",
            "22    1\n",
            "16    1\n",
            "10    1\n",
            "13    1\n",
            "31    0\n",
            "4     1\n",
            "23    1\n",
            "17    0\n",
            "1     0\n",
            "38    1\n",
            "7     0\n",
            "8     1\n",
            "24    1\n",
            "25    0\n",
            "36    0\n",
            "34    1\n",
            "15    0\n",
            "18    1\n",
            "39    1\n",
            "14    1\n",
            "11    0\n",
            "5     0\n",
            "2     0\n",
            "19    1\n",
            "30    1\n",
            "37    0\n",
            "29    1\n",
            "20    1\n",
            "21    0\n",
            "0     1\n",
            "32    0\n",
            "Name: WillBuyCar, dtype: int64\n"
          ]
        }
      ]
    },
    {
      "cell_type": "code",
      "execution_count": 44,
      "metadata": {
        "colab": {
          "base_uri": "https://localhost:8080/"
        },
        "id": "8WzKuzEuh0bK",
        "outputId": "b401cfea-ebd3-420b-c444-610e202fe33b"
      },
      "outputs": [
        {
          "output_type": "stream",
          "name": "stdout",
          "text": [
            "    Age   Salary\n",
            "6    38   70,000\n",
            "3    40   90,000\n",
            "26   38   70,000\n",
            "22   28   50,000\n",
            "16   38   70,000\n",
            "10   30   60,000\n",
            "13   40   90,000\n",
            "31   35   75,000\n",
            "4    45   80,000\n",
            "23   40   90,000\n",
            "17   28   55,000\n",
            "1    35   75,000\n",
            "38   42  100,000\n",
            "7    28   55,000\n",
            "8    42  100,000\n",
            "24   45   80,000\n",
            "25   32   65,000\n",
            "36   38   70,000\n",
            "34   45   80,000\n",
            "15   32   65,000\n",
            "18   42  100,000\n",
            "39   33   85,000\n",
            "14   45   80,000\n",
            "11   35   75,000\n",
            "5    32   65,000\n",
            "2    28   50,000\n",
            "19   33   85,000\n",
            "30   30   60,000\n",
            "37   28   55,000\n",
            "29   33   85,000\n",
            "20   30   60,000\n",
            "21   35   75,000\n",
            "0    30   60,000\n",
            "32   28   50,000\n",
            "6     1\n",
            "3     1\n",
            "26    0\n",
            "22    1\n",
            "16    1\n",
            "10    1\n",
            "13    1\n",
            "31    0\n",
            "4     1\n",
            "23    1\n",
            "17    0\n",
            "1     0\n",
            "38    1\n",
            "7     0\n",
            "8     1\n",
            "24    1\n",
            "25    0\n",
            "36    0\n",
            "34    1\n",
            "15    0\n",
            "18    1\n",
            "39    1\n",
            "14    1\n",
            "11    0\n",
            "5     0\n",
            "2     0\n",
            "19    1\n",
            "30    1\n",
            "37    0\n",
            "29    1\n",
            "20    1\n",
            "21    0\n",
            "0     1\n",
            "32    0\n",
            "Name: WillBuyCar, dtype: int64\n",
            "    Age   Salary\n",
            "28   42  100,000\n",
            "12   28   50,000\n",
            "27   28   55,000\n",
            "35   32   65,000\n",
            "9    33   85,000\n",
            "33   40   90,000\n"
          ]
        }
      ],
      "source": [
        "#training the Logistic Regression model with training\n",
        "\n",
        "\n",
        "print(X_train)\n",
        "print(Y_train)\n",
        "print(X_test)"
      ]
    },
    {
      "cell_type": "code",
      "source": [],
      "metadata": {
        "id": "z4-SuyMjJzQI"
      },
      "execution_count": 35,
      "outputs": []
    },
    {
      "source": [
        "model.fit(X_train,Y_train)"
      ],
      "cell_type": "code",
      "metadata": {
        "colab": {
          "base_uri": "https://localhost:8080/",
          "height": 75
        },
        "id": "B6T3rqCxjHgH",
        "outputId": "95a1fdb8-5bc4-461c-e927-2aeee92b2c5d"
      },
      "execution_count": 66,
      "outputs": [
        {
          "output_type": "execute_result",
          "data": {
            "text/plain": [
              "LogisticRegression()"
            ],
            "text/html": [
              "<style>#sk-container-id-1 {color: black;background-color: white;}#sk-container-id-1 pre{padding: 0;}#sk-container-id-1 div.sk-toggleable {background-color: white;}#sk-container-id-1 label.sk-toggleable__label {cursor: pointer;display: block;width: 100%;margin-bottom: 0;padding: 0.3em;box-sizing: border-box;text-align: center;}#sk-container-id-1 label.sk-toggleable__label-arrow:before {content: \"▸\";float: left;margin-right: 0.25em;color: #696969;}#sk-container-id-1 label.sk-toggleable__label-arrow:hover:before {color: black;}#sk-container-id-1 div.sk-estimator:hover label.sk-toggleable__label-arrow:before {color: black;}#sk-container-id-1 div.sk-toggleable__content {max-height: 0;max-width: 0;overflow: hidden;text-align: left;background-color: #f0f8ff;}#sk-container-id-1 div.sk-toggleable__content pre {margin: 0.2em;color: black;border-radius: 0.25em;background-color: #f0f8ff;}#sk-container-id-1 input.sk-toggleable__control:checked~div.sk-toggleable__content {max-height: 200px;max-width: 100%;overflow: auto;}#sk-container-id-1 input.sk-toggleable__control:checked~label.sk-toggleable__label-arrow:before {content: \"▾\";}#sk-container-id-1 div.sk-estimator input.sk-toggleable__control:checked~label.sk-toggleable__label {background-color: #d4ebff;}#sk-container-id-1 div.sk-label input.sk-toggleable__control:checked~label.sk-toggleable__label {background-color: #d4ebff;}#sk-container-id-1 input.sk-hidden--visually {border: 0;clip: rect(1px 1px 1px 1px);clip: rect(1px, 1px, 1px, 1px);height: 1px;margin: -1px;overflow: hidden;padding: 0;position: absolute;width: 1px;}#sk-container-id-1 div.sk-estimator {font-family: monospace;background-color: #f0f8ff;border: 1px dotted black;border-radius: 0.25em;box-sizing: border-box;margin-bottom: 0.5em;}#sk-container-id-1 div.sk-estimator:hover {background-color: #d4ebff;}#sk-container-id-1 div.sk-parallel-item::after {content: \"\";width: 100%;border-bottom: 1px solid gray;flex-grow: 1;}#sk-container-id-1 div.sk-label:hover label.sk-toggleable__label {background-color: #d4ebff;}#sk-container-id-1 div.sk-serial::before {content: \"\";position: absolute;border-left: 1px solid gray;box-sizing: border-box;top: 0;bottom: 0;left: 50%;z-index: 0;}#sk-container-id-1 div.sk-serial {display: flex;flex-direction: column;align-items: center;background-color: white;padding-right: 0.2em;padding-left: 0.2em;position: relative;}#sk-container-id-1 div.sk-item {position: relative;z-index: 1;}#sk-container-id-1 div.sk-parallel {display: flex;align-items: stretch;justify-content: center;background-color: white;position: relative;}#sk-container-id-1 div.sk-item::before, #sk-container-id-1 div.sk-parallel-item::before {content: \"\";position: absolute;border-left: 1px solid gray;box-sizing: border-box;top: 0;bottom: 0;left: 50%;z-index: -1;}#sk-container-id-1 div.sk-parallel-item {display: flex;flex-direction: column;z-index: 1;position: relative;background-color: white;}#sk-container-id-1 div.sk-parallel-item:first-child::after {align-self: flex-end;width: 50%;}#sk-container-id-1 div.sk-parallel-item:last-child::after {align-self: flex-start;width: 50%;}#sk-container-id-1 div.sk-parallel-item:only-child::after {width: 0;}#sk-container-id-1 div.sk-dashed-wrapped {border: 1px dashed gray;margin: 0 0.4em 0.5em 0.4em;box-sizing: border-box;padding-bottom: 0.4em;background-color: white;}#sk-container-id-1 div.sk-label label {font-family: monospace;font-weight: bold;display: inline-block;line-height: 1.2em;}#sk-container-id-1 div.sk-label-container {text-align: center;}#sk-container-id-1 div.sk-container {/* jupyter's `normalize.less` sets `[hidden] { display: none; }` but bootstrap.min.css set `[hidden] { display: none !important; }` so we also need the `!important` here to be able to override the default hidden behavior on the sphinx rendered scikit-learn.org. See: https://github.com/scikit-learn/scikit-learn/issues/21755 */display: inline-block !important;position: relative;}#sk-container-id-1 div.sk-text-repr-fallback {display: none;}</style><div id=\"sk-container-id-1\" class=\"sk-top-container\"><div class=\"sk-text-repr-fallback\"><pre>LogisticRegression()</pre><b>In a Jupyter environment, please rerun this cell to show the HTML representation or trust the notebook. <br />On GitHub, the HTML representation is unable to render, please try loading this page with nbviewer.org.</b></div><div class=\"sk-container\" hidden><div class=\"sk-item\"><div class=\"sk-estimator sk-toggleable\"><input class=\"sk-toggleable__control sk-hidden--visually\" id=\"sk-estimator-id-1\" type=\"checkbox\" checked><label for=\"sk-estimator-id-1\" class=\"sk-toggleable__label sk-toggleable__label-arrow\">LogisticRegression</label><div class=\"sk-toggleable__content\"><pre>LogisticRegression()</pre></div></div></div></div></div>"
            ]
          },
          "metadata": {},
          "execution_count": 66
        }
      ]
    },
    {
      "source": [
        "\n",
        "# Make predictions on training data\n",
        "X_train_prediction = model.predict(X_train)\n",
        "\n",
        "# Calculate accuracy on training data\n",
        "training_data_accuracy = accuracy_score(X_train_prediction, Y_train)\n",
        "\n",
        "# Print the training data accuracy\n",
        "print(\"Accuracy on training data:\", training_data_accuracy)"
      ],
      "cell_type": "code",
      "metadata": {
        "colab": {
          "base_uri": "https://localhost:8080/"
        },
        "id": "t7XO3Bm8YBmY",
        "outputId": "2015d91b-de32-4d90-cc8e-512a8fec6a1f"
      },
      "execution_count": 68,
      "outputs": [
        {
          "output_type": "stream",
          "name": "stdout",
          "text": [
            "Accuracy on training data: 0.6764705882352942\n"
          ]
        }
      ]
    },
    {
      "source": [
        "# Convert non-numerical columns to numerical values\n",
        "\n",
        "\n",
        "# Make predictions on training data\n",
        "X_test_prediction = model.predict(X_test)\n",
        "\n",
        "# Calculate accuracy on training data\n",
        "test_data_accuracy = accuracy_score(X_test_prediction, Y_test)\n",
        "\n",
        "# Print the training data accuracy\n",
        "print(\"Accuracy on training data:\", test_data_accuracy)"
      ],
      "cell_type": "code",
      "metadata": {
        "colab": {
          "base_uri": "https://localhost:8080/"
        },
        "id": "SCg8lbTVjIl4",
        "outputId": "cf3264d7-a681-4d3a-98e0-c492396366ac"
      },
      "execution_count": 70,
      "outputs": [
        {
          "output_type": "stream",
          "name": "stdout",
          "text": [
            "Accuracy on training data: 0.8333333333333334\n"
          ]
        }
      ]
    },
    {
      "cell_type": "code",
      "execution_count": 70,
      "metadata": {
        "id": "MWsBrHAkt9fW"
      },
      "outputs": [],
      "source": []
    },
    {
      "source": [],
      "cell_type": "code",
      "metadata": {
        "id": "97dKC6jZjJxS"
      },
      "execution_count": null,
      "outputs": []
    },
    {
      "cell_type": "code",
      "execution_count": null,
      "metadata": {
        "colab": {
          "base_uri": "https://localhost:8080/"
        },
        "id": "tSIUeC0Qvd1s",
        "outputId": "06f18536-a93f-4e40-cb24-ee2489f13724"
      },
      "outputs": [
        {
          "name": "stdout",
          "output_type": "stream",
          "text": [
            "accuracy on training data: 0.7619047619047619\n"
          ]
        }
      ],
      "source": [
        "print('accuracy on training data:',test_data_accuracy)"
      ]
    },
    {
      "cell_type": "code",
      "execution_count": 79,
      "metadata": {
        "colab": {
          "base_uri": "https://localhost:8080/"
        },
        "id": "6yuHMpHsvhgc",
        "outputId": "db9bc550-3aec-48f8-99de-5720e1917370"
      },
      "outputs": [
        {
          "output_type": "stream",
          "name": "stdout",
          "text": [
            "[1]\n",
            "man can buy car\n"
          ]
        },
        {
          "output_type": "stream",
          "name": "stderr",
          "text": [
            "/usr/local/lib/python3.10/dist-packages/sklearn/base.py:439: UserWarning: X does not have valid feature names, but LogisticRegression was fitted with feature names\n",
            "  warnings.warn(\n"
          ]
        }
      ],
      "source": [
        "#making a predictive system\n",
        "input_data = (42,100000)\n",
        "#changing the input data to a numpy array\n",
        "input_data_as_numpy_array = np.asarray(input_data)\n",
        "#reshape the np array as we are predicting for one instance\n",
        "input_data_reshaped = input_data_as_numpy_array.reshape(1,-1)\n",
        "\n",
        "prediction = model.predict(input_data_reshaped)\n",
        "print(prediction)\n",
        "if(prediction[0]==1):\n",
        " print('man can buy car')\n",
        "else:\n",
        "  print('man cannot buy car')\n"
      ]
    },
    {
      "cell_type": "code",
      "execution_count": null,
      "metadata": {
        "id": "8S1qsPNrAbbA"
      },
      "outputs": [],
      "source": []
    }
  ],
  "metadata": {
    "colab": {
      "provenance": [],
      "authorship_tag": "ABX9TyM9An5OiWtvxXb448rfIqsm",
      "include_colab_link": true
    },
    "kernelspec": {
      "display_name": "Python 3",
      "name": "python3"
    },
    "language_info": {
      "name": "python"
    }
  },
  "nbformat": 4,
  "nbformat_minor": 0
}